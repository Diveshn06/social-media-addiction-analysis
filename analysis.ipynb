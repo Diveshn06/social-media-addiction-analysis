{
 "cells": [
  {
   "cell_type": "markdown",
   "id": "bb6133c7-b237-43a2-9ebe-ef9bec4ed76b",
   "metadata": {},
   "source": [
    "# Importing libraries"
   ]
  },
  {
   "cell_type": "code",
   "execution_count": 2,
   "id": "36d75d46-6801-485b-a1fd-9593892a2049",
   "metadata": {},
   "outputs": [],
   "source": [
    "import numpy as np\n",
    "import pandas as pd\n",
    "import matplotlib.pyplot as plt\n",
    "import seaborn as sns"
   ]
  },
  {
   "cell_type": "markdown",
   "id": "e5ae2f4e-ec74-4809-8fab-51f4979d74b0",
   "metadata": {},
   "source": [
    "# Data Loading : Loads data and prints basic structure "
   ]
  },
  {
   "cell_type": "code",
   "execution_count": 3,
   "id": "0f80df22-86dd-4bd3-b4a9-4bc228869ced",
   "metadata": {},
   "outputs": [],
   "source": [
    "data = pd.read_csv('Python_Mini_Project/Students Social Media Addiction.csv')"
   ]
  },
  {
   "cell_type": "code",
   "execution_count": 4,
   "id": "f4b1c9c3-291f-48f4-821c-186a7f6ad7dc",
   "metadata": {},
   "outputs": [
    {
     "data": {
      "text/html": [
       "<div>\n",
       "<style scoped>\n",
       "    .dataframe tbody tr th:only-of-type {\n",
       "        vertical-align: middle;\n",
       "    }\n",
       "\n",
       "    .dataframe tbody tr th {\n",
       "        vertical-align: top;\n",
       "    }\n",
       "\n",
       "    .dataframe thead th {\n",
       "        text-align: right;\n",
       "    }\n",
       "</style>\n",
       "<table border=\"1\" class=\"dataframe\">\n",
       "  <thead>\n",
       "    <tr style=\"text-align: right;\">\n",
       "      <th></th>\n",
       "      <th>Student_ID</th>\n",
       "      <th>Age</th>\n",
       "      <th>Gender</th>\n",
       "      <th>Academic_Level</th>\n",
       "      <th>Country</th>\n",
       "      <th>Avg_Daily_Usage_Hours</th>\n",
       "      <th>Most_Used_Platform</th>\n",
       "      <th>Affects_Academic_Performance</th>\n",
       "      <th>Sleep_Hours_Per_Night</th>\n",
       "      <th>Mental_Health_Score</th>\n",
       "      <th>Relationship_Status</th>\n",
       "      <th>Conflicts_Over_Social_Media</th>\n",
       "      <th>Addicted_Score</th>\n",
       "    </tr>\n",
       "  </thead>\n",
       "  <tbody>\n",
       "    <tr>\n",
       "      <th>0</th>\n",
       "      <td>1</td>\n",
       "      <td>19</td>\n",
       "      <td>Female</td>\n",
       "      <td>Undergraduate</td>\n",
       "      <td>Bangladesh</td>\n",
       "      <td>5.2</td>\n",
       "      <td>Instagram</td>\n",
       "      <td>Yes</td>\n",
       "      <td>6.5</td>\n",
       "      <td>6</td>\n",
       "      <td>In Relationship</td>\n",
       "      <td>3</td>\n",
       "      <td>8</td>\n",
       "    </tr>\n",
       "    <tr>\n",
       "      <th>1</th>\n",
       "      <td>2</td>\n",
       "      <td>22</td>\n",
       "      <td>Male</td>\n",
       "      <td>Graduate</td>\n",
       "      <td>India</td>\n",
       "      <td>2.1</td>\n",
       "      <td>Twitter</td>\n",
       "      <td>No</td>\n",
       "      <td>7.5</td>\n",
       "      <td>8</td>\n",
       "      <td>Single</td>\n",
       "      <td>0</td>\n",
       "      <td>3</td>\n",
       "    </tr>\n",
       "    <tr>\n",
       "      <th>2</th>\n",
       "      <td>3</td>\n",
       "      <td>20</td>\n",
       "      <td>Female</td>\n",
       "      <td>Undergraduate</td>\n",
       "      <td>USA</td>\n",
       "      <td>6.0</td>\n",
       "      <td>TikTok</td>\n",
       "      <td>Yes</td>\n",
       "      <td>5.0</td>\n",
       "      <td>5</td>\n",
       "      <td>Complicated</td>\n",
       "      <td>4</td>\n",
       "      <td>9</td>\n",
       "    </tr>\n",
       "    <tr>\n",
       "      <th>3</th>\n",
       "      <td>4</td>\n",
       "      <td>18</td>\n",
       "      <td>Male</td>\n",
       "      <td>High School</td>\n",
       "      <td>UK</td>\n",
       "      <td>3.0</td>\n",
       "      <td>YouTube</td>\n",
       "      <td>No</td>\n",
       "      <td>7.0</td>\n",
       "      <td>7</td>\n",
       "      <td>Single</td>\n",
       "      <td>1</td>\n",
       "      <td>4</td>\n",
       "    </tr>\n",
       "    <tr>\n",
       "      <th>4</th>\n",
       "      <td>5</td>\n",
       "      <td>21</td>\n",
       "      <td>Male</td>\n",
       "      <td>Graduate</td>\n",
       "      <td>Canada</td>\n",
       "      <td>4.5</td>\n",
       "      <td>Facebook</td>\n",
       "      <td>Yes</td>\n",
       "      <td>6.0</td>\n",
       "      <td>6</td>\n",
       "      <td>In Relationship</td>\n",
       "      <td>2</td>\n",
       "      <td>7</td>\n",
       "    </tr>\n",
       "    <tr>\n",
       "      <th>...</th>\n",
       "      <td>...</td>\n",
       "      <td>...</td>\n",
       "      <td>...</td>\n",
       "      <td>...</td>\n",
       "      <td>...</td>\n",
       "      <td>...</td>\n",
       "      <td>...</td>\n",
       "      <td>...</td>\n",
       "      <td>...</td>\n",
       "      <td>...</td>\n",
       "      <td>...</td>\n",
       "      <td>...</td>\n",
       "      <td>...</td>\n",
       "    </tr>\n",
       "    <tr>\n",
       "      <th>700</th>\n",
       "      <td>701</td>\n",
       "      <td>20</td>\n",
       "      <td>Female</td>\n",
       "      <td>Undergraduate</td>\n",
       "      <td>Italy</td>\n",
       "      <td>4.7</td>\n",
       "      <td>TikTok</td>\n",
       "      <td>No</td>\n",
       "      <td>7.2</td>\n",
       "      <td>7</td>\n",
       "      <td>In Relationship</td>\n",
       "      <td>2</td>\n",
       "      <td>5</td>\n",
       "    </tr>\n",
       "    <tr>\n",
       "      <th>701</th>\n",
       "      <td>702</td>\n",
       "      <td>23</td>\n",
       "      <td>Male</td>\n",
       "      <td>Graduate</td>\n",
       "      <td>Russia</td>\n",
       "      <td>6.8</td>\n",
       "      <td>Instagram</td>\n",
       "      <td>Yes</td>\n",
       "      <td>5.9</td>\n",
       "      <td>4</td>\n",
       "      <td>Single</td>\n",
       "      <td>5</td>\n",
       "      <td>9</td>\n",
       "    </tr>\n",
       "    <tr>\n",
       "      <th>702</th>\n",
       "      <td>703</td>\n",
       "      <td>21</td>\n",
       "      <td>Female</td>\n",
       "      <td>Undergraduate</td>\n",
       "      <td>China</td>\n",
       "      <td>5.6</td>\n",
       "      <td>WeChat</td>\n",
       "      <td>Yes</td>\n",
       "      <td>6.7</td>\n",
       "      <td>6</td>\n",
       "      <td>In Relationship</td>\n",
       "      <td>3</td>\n",
       "      <td>7</td>\n",
       "    </tr>\n",
       "    <tr>\n",
       "      <th>703</th>\n",
       "      <td>704</td>\n",
       "      <td>24</td>\n",
       "      <td>Male</td>\n",
       "      <td>Graduate</td>\n",
       "      <td>Japan</td>\n",
       "      <td>4.3</td>\n",
       "      <td>Twitter</td>\n",
       "      <td>No</td>\n",
       "      <td>7.5</td>\n",
       "      <td>8</td>\n",
       "      <td>Single</td>\n",
       "      <td>2</td>\n",
       "      <td>4</td>\n",
       "    </tr>\n",
       "    <tr>\n",
       "      <th>704</th>\n",
       "      <td>705</td>\n",
       "      <td>19</td>\n",
       "      <td>Female</td>\n",
       "      <td>Undergraduate</td>\n",
       "      <td>Poland</td>\n",
       "      <td>6.2</td>\n",
       "      <td>Facebook</td>\n",
       "      <td>Yes</td>\n",
       "      <td>6.3</td>\n",
       "      <td>5</td>\n",
       "      <td>Single</td>\n",
       "      <td>4</td>\n",
       "      <td>8</td>\n",
       "    </tr>\n",
       "  </tbody>\n",
       "</table>\n",
       "<p>705 rows × 13 columns</p>\n",
       "</div>"
      ],
      "text/plain": [
       "     Student_ID  Age  Gender Academic_Level     Country  \\\n",
       "0             1   19  Female  Undergraduate  Bangladesh   \n",
       "1             2   22    Male       Graduate       India   \n",
       "2             3   20  Female  Undergraduate         USA   \n",
       "3             4   18    Male    High School          UK   \n",
       "4             5   21    Male       Graduate      Canada   \n",
       "..          ...  ...     ...            ...         ...   \n",
       "700         701   20  Female  Undergraduate       Italy   \n",
       "701         702   23    Male       Graduate      Russia   \n",
       "702         703   21  Female  Undergraduate       China   \n",
       "703         704   24    Male       Graduate       Japan   \n",
       "704         705   19  Female  Undergraduate      Poland   \n",
       "\n",
       "     Avg_Daily_Usage_Hours Most_Used_Platform Affects_Academic_Performance  \\\n",
       "0                      5.2          Instagram                          Yes   \n",
       "1                      2.1            Twitter                           No   \n",
       "2                      6.0             TikTok                          Yes   \n",
       "3                      3.0            YouTube                           No   \n",
       "4                      4.5           Facebook                          Yes   \n",
       "..                     ...                ...                          ...   \n",
       "700                    4.7             TikTok                           No   \n",
       "701                    6.8          Instagram                          Yes   \n",
       "702                    5.6             WeChat                          Yes   \n",
       "703                    4.3            Twitter                           No   \n",
       "704                    6.2           Facebook                          Yes   \n",
       "\n",
       "     Sleep_Hours_Per_Night  Mental_Health_Score Relationship_Status  \\\n",
       "0                      6.5                    6     In Relationship   \n",
       "1                      7.5                    8              Single   \n",
       "2                      5.0                    5         Complicated   \n",
       "3                      7.0                    7              Single   \n",
       "4                      6.0                    6     In Relationship   \n",
       "..                     ...                  ...                 ...   \n",
       "700                    7.2                    7     In Relationship   \n",
       "701                    5.9                    4              Single   \n",
       "702                    6.7                    6     In Relationship   \n",
       "703                    7.5                    8              Single   \n",
       "704                    6.3                    5              Single   \n",
       "\n",
       "     Conflicts_Over_Social_Media  Addicted_Score  \n",
       "0                              3               8  \n",
       "1                              0               3  \n",
       "2                              4               9  \n",
       "3                              1               4  \n",
       "4                              2               7  \n",
       "..                           ...             ...  \n",
       "700                            2               5  \n",
       "701                            5               9  \n",
       "702                            3               7  \n",
       "703                            2               4  \n",
       "704                            4               8  \n",
       "\n",
       "[705 rows x 13 columns]"
      ]
     },
     "execution_count": 4,
     "metadata": {},
     "output_type": "execute_result"
    }
   ],
   "source": [
    "data"
   ]
  },
  {
   "cell_type": "code",
   "execution_count": 5,
   "id": "006ca222-0b61-452e-8bdc-eb49dcf394b5",
   "metadata": {},
   "outputs": [
    {
     "name": "stdout",
     "output_type": "stream",
     "text": [
      "<class 'pandas.core.frame.DataFrame'>\n",
      "RangeIndex: 705 entries, 0 to 704\n",
      "Data columns (total 13 columns):\n",
      " #   Column                        Non-Null Count  Dtype  \n",
      "---  ------                        --------------  -----  \n",
      " 0   Student_ID                    705 non-null    int64  \n",
      " 1   Age                           705 non-null    int64  \n",
      " 2   Gender                        705 non-null    object \n",
      " 3   Academic_Level                705 non-null    object \n",
      " 4   Country                       705 non-null    object \n",
      " 5   Avg_Daily_Usage_Hours         705 non-null    float64\n",
      " 6   Most_Used_Platform            705 non-null    object \n",
      " 7   Affects_Academic_Performance  705 non-null    object \n",
      " 8   Sleep_Hours_Per_Night         705 non-null    float64\n",
      " 9   Mental_Health_Score           705 non-null    int64  \n",
      " 10  Relationship_Status           705 non-null    object \n",
      " 11  Conflicts_Over_Social_Media   705 non-null    int64  \n",
      " 12  Addicted_Score                705 non-null    int64  \n",
      "dtypes: float64(2), int64(5), object(6)\n",
      "memory usage: 71.7+ KB\n"
     ]
    }
   ],
   "source": [
    "data.info()"
   ]
  },
  {
   "cell_type": "code",
   "execution_count": null,
   "id": "0488b154-ddd2-4883-b6d0-593b01939b28",
   "metadata": {},
   "outputs": [],
   "source": []
  },
  {
   "cell_type": "code",
   "execution_count": null,
   "id": "a9f6f14c-9c81-4874-92c4-80e7df1abd54",
   "metadata": {},
   "outputs": [],
   "source": []
  },
  {
   "cell_type": "markdown",
   "id": "d43921fa-83b9-49e9-b83b-40b2c7eaaa5c",
   "metadata": {},
   "source": [
    "# To Check wethere there is any null values or not in the data"
   ]
  },
  {
   "cell_type": "code",
   "execution_count": 6,
   "id": "285009ea-6a06-47f2-b98f-0d01957188b8",
   "metadata": {},
   "outputs": [
    {
     "data": {
      "text/plain": [
       "Student_ID                      0\n",
       "Age                             0\n",
       "Gender                          0\n",
       "Academic_Level                  0\n",
       "Country                         0\n",
       "Avg_Daily_Usage_Hours           0\n",
       "Most_Used_Platform              0\n",
       "Affects_Academic_Performance    0\n",
       "Sleep_Hours_Per_Night           0\n",
       "Mental_Health_Score             0\n",
       "Relationship_Status             0\n",
       "Conflicts_Over_Social_Media     0\n",
       "Addicted_Score                  0\n",
       "dtype: int64"
      ]
     },
     "execution_count": 6,
     "metadata": {},
     "output_type": "execute_result"
    }
   ],
   "source": [
    "data.isna().sum()"
   ]
  },
  {
   "cell_type": "markdown",
   "id": "3315b5bb-f915-40af-86c2-ed437a0f5621",
   "metadata": {},
   "source": [
    "### CONCLUSION : Thers is not any null values in any columns"
   ]
  },
  {
   "cell_type": "code",
   "execution_count": 7,
   "id": "45ceb030-e065-4c61-8c6a-9d3397a2f2d6",
   "metadata": {},
   "outputs": [
    {
     "name": "stdout",
     "output_type": "stream",
     "text": [
      "<class 'pandas.core.frame.DataFrame'>\n",
      "RangeIndex: 705 entries, 0 to 704\n",
      "Data columns (total 13 columns):\n",
      " #   Column                        Non-Null Count  Dtype  \n",
      "---  ------                        --------------  -----  \n",
      " 0   Student_ID                    705 non-null    int64  \n",
      " 1   Age                           705 non-null    int64  \n",
      " 2   Gender                        705 non-null    object \n",
      " 3   Academic_Level                705 non-null    object \n",
      " 4   Country                       705 non-null    object \n",
      " 5   Avg_Daily_Usage_Hours         705 non-null    float64\n",
      " 6   Most_Used_Platform            705 non-null    object \n",
      " 7   Affects_Academic_Performance  705 non-null    object \n",
      " 8   Sleep_Hours_Per_Night         705 non-null    float64\n",
      " 9   Mental_Health_Score           705 non-null    int64  \n",
      " 10  Relationship_Status           705 non-null    object \n",
      " 11  Conflicts_Over_Social_Media   705 non-null    int64  \n",
      " 12  Addicted_Score                705 non-null    int64  \n",
      "dtypes: float64(2), int64(5), object(6)\n",
      "memory usage: 71.7+ KB\n"
     ]
    }
   ],
   "source": [
    "data.info()"
   ]
  },
  {
   "cell_type": "code",
   "execution_count": null,
   "id": "7b1d626b-5971-48a7-8be2-dc8b39dcc0dc",
   "metadata": {},
   "outputs": [],
   "source": []
  },
  {
   "cell_type": "code",
   "execution_count": null,
   "id": "39ae43a8-12f6-4c5b-9e3f-98339a92bf8e",
   "metadata": {},
   "outputs": [],
   "source": []
  },
  {
   "cell_type": "markdown",
   "id": "2a4e6d76-f658-4531-b739-cb7de0df5e6b",
   "metadata": {},
   "source": [
    "# CHECK : if any requirement to change datatype to save memory or improve performance\n",
    "\n",
    "   #### -> As we can see Gender has an object data type, we need to change it to categorical data type and it have only 2 unique values\n",
    "   #### -> same goes with Academic level(3 unique values) , and aslo in relationship_status(3 unique values)\n",
    "   #### -> same as with Affects_Academic_Performance ,we can change it to either in category data type \n",
    "   #### -> or boolean data type cause it only contains YES or NO"
   ]
  },
  {
   "cell_type": "code",
   "execution_count": 8,
   "id": "e833e31b-f3ee-4c9f-9d2e-eaffd21c842d",
   "metadata": {},
   "outputs": [
    {
     "data": {
      "text/plain": [
       "Student_ID                      705\n",
       "Age                               7\n",
       "Gender                            2\n",
       "Academic_Level                    3\n",
       "Country                         110\n",
       "Avg_Daily_Usage_Hours            67\n",
       "Most_Used_Platform               12\n",
       "Affects_Academic_Performance      2\n",
       "Sleep_Hours_Per_Night            59\n",
       "Mental_Health_Score               6\n",
       "Relationship_Status               3\n",
       "Conflicts_Over_Social_Media       6\n",
       "Addicted_Score                    8\n",
       "dtype: int64"
      ]
     },
     "execution_count": 8,
     "metadata": {},
     "output_type": "execute_result"
    }
   ],
   "source": [
    "data.nunique() \n"
   ]
  },
  {
   "cell_type": "code",
   "execution_count": 9,
   "id": "23793130-0984-47ff-9678-7fa20d6d69fe",
   "metadata": {},
   "outputs": [],
   "source": [
    "categorical_column = ['Gender','Academic_Level','Relationship_Status']\n",
    "\n",
    "for i in categorical_column:\n",
    "    data[i] = data[i].astype('category')"
   ]
  },
  {
   "cell_type": "code",
   "execution_count": 10,
   "id": "254aa421-b64c-4f29-98e1-17bfd5d7715a",
   "metadata": {},
   "outputs": [],
   "source": [
    "data['Affects_Academic_Performance'] = data['Affects_Academic_Performance'].map({'Yes':True, 'No':False})"
   ]
  },
  {
   "cell_type": "code",
   "execution_count": 11,
   "id": "65f1017b-70a5-4873-b75c-21ab70e95e3d",
   "metadata": {},
   "outputs": [
    {
     "name": "stdout",
     "output_type": "stream",
     "text": [
      "<class 'pandas.core.frame.DataFrame'>\n",
      "RangeIndex: 705 entries, 0 to 704\n",
      "Data columns (total 13 columns):\n",
      " #   Column                        Non-Null Count  Dtype   \n",
      "---  ------                        --------------  -----   \n",
      " 0   Student_ID                    705 non-null    int64   \n",
      " 1   Age                           705 non-null    int64   \n",
      " 2   Gender                        705 non-null    category\n",
      " 3   Academic_Level                705 non-null    category\n",
      " 4   Country                       705 non-null    object  \n",
      " 5   Avg_Daily_Usage_Hours         705 non-null    float64 \n",
      " 6   Most_Used_Platform            705 non-null    object  \n",
      " 7   Affects_Academic_Performance  705 non-null    bool    \n",
      " 8   Sleep_Hours_Per_Night         705 non-null    float64 \n",
      " 9   Mental_Health_Score           705 non-null    int64   \n",
      " 10  Relationship_Status           705 non-null    category\n",
      " 11  Conflicts_Over_Social_Media   705 non-null    int64   \n",
      " 12  Addicted_Score                705 non-null    int64   \n",
      "dtypes: bool(1), category(3), float64(2), int64(5), object(2)\n",
      "memory usage: 52.8+ KB\n"
     ]
    }
   ],
   "source": [
    "data.info()"
   ]
  },
  {
   "cell_type": "code",
   "execution_count": null,
   "id": "f87c8ef3-56a5-4dbc-813a-cfe6069ee0c1",
   "metadata": {},
   "outputs": [],
   "source": []
  },
  {
   "cell_type": "code",
   "execution_count": null,
   "id": "61b6f90b-63e9-400c-99ae-943a6efc667d",
   "metadata": {},
   "outputs": [],
   "source": []
  },
  {
   "cell_type": "markdown",
   "id": "47dea929-29bd-49ab-9abb-d18cb3911f7d",
   "metadata": {},
   "source": [
    "# Creates meaningful new columns (e.g., risk level)\n",
    "   #### -> we can create a new column named by risk level and here we can check the conditions in Addicted_Score and Mental_Health_Score\n",
    "   #### -> if Addicted_Score value is greater then 7 and Mental_Health_Score < 4 then it comes under risk_level = HIGH\n",
    "   #### -> if Addicted_Score value is greater then 4 and smaller then 8 : MODERATE\n",
    "   #### -> else LOW"
   ]
  },
  {
   "cell_type": "markdown",
   "id": "91234bea-9f03-4535-aaa2-4cedbbbe88e6",
   "metadata": {},
   "source": [
    "### -> Here I classified students into High, Moderate, and Low risk levels, each with a tailored digital detox tip,\n",
    "### -> making it easy to spot and help those most at risk."
   ]
  },
  {
   "cell_type": "code",
   "execution_count": 72,
   "id": "6ec55d26-c680-4abc-9604-09908b6353c1",
   "metadata": {},
   "outputs": [
    {
     "data": {
      "text/html": [
       "<div>\n",
       "<style scoped>\n",
       "    .dataframe tbody tr th:only-of-type {\n",
       "        vertical-align: middle;\n",
       "    }\n",
       "\n",
       "    .dataframe tbody tr th {\n",
       "        vertical-align: top;\n",
       "    }\n",
       "\n",
       "    .dataframe thead th {\n",
       "        text-align: right;\n",
       "    }\n",
       "</style>\n",
       "<table border=\"1\" class=\"dataframe\">\n",
       "  <thead>\n",
       "    <tr style=\"text-align: right;\">\n",
       "      <th></th>\n",
       "      <th>Addicted_Score</th>\n",
       "      <th>Mental_Health_Score</th>\n",
       "      <th>Risk_Level</th>\n",
       "      <th>Detox_Strategy</th>\n",
       "    </tr>\n",
       "  </thead>\n",
       "  <tbody>\n",
       "    <tr>\n",
       "      <th>0</th>\n",
       "      <td>8</td>\n",
       "      <td>6</td>\n",
       "      <td>Moderate</td>\n",
       "      <td>Set app timers, avoid screens 1 hr before bed.</td>\n",
       "    </tr>\n",
       "    <tr>\n",
       "      <th>1</th>\n",
       "      <td>3</td>\n",
       "      <td>8</td>\n",
       "      <td>Low</td>\n",
       "      <td>Maintain current habits, focus on offline inte...</td>\n",
       "    </tr>\n",
       "    <tr>\n",
       "      <th>2</th>\n",
       "      <td>9</td>\n",
       "      <td>5</td>\n",
       "      <td>High</td>\n",
       "      <td>Limit social media to 2 hrs/day, replace with ...</td>\n",
       "    </tr>\n",
       "    <tr>\n",
       "      <th>3</th>\n",
       "      <td>4</td>\n",
       "      <td>7</td>\n",
       "      <td>Low</td>\n",
       "      <td>Maintain current habits, focus on offline inte...</td>\n",
       "    </tr>\n",
       "    <tr>\n",
       "      <th>4</th>\n",
       "      <td>7</td>\n",
       "      <td>6</td>\n",
       "      <td>Moderate</td>\n",
       "      <td>Set app timers, avoid screens 1 hr before bed.</td>\n",
       "    </tr>\n",
       "  </tbody>\n",
       "</table>\n",
       "</div>"
      ],
      "text/plain": [
       "   Addicted_Score  Mental_Health_Score Risk_Level  \\\n",
       "0               8                    6   Moderate   \n",
       "1               3                    8        Low   \n",
       "2               9                    5       High   \n",
       "3               4                    7        Low   \n",
       "4               7                    6   Moderate   \n",
       "\n",
       "                                      Detox_Strategy  \n",
       "0     Set app timers, avoid screens 1 hr before bed.  \n",
       "1  Maintain current habits, focus on offline inte...  \n",
       "2  Limit social media to 2 hrs/day, replace with ...  \n",
       "3  Maintain current habits, focus on offline inte...  \n",
       "4     Set app timers, avoid screens 1 hr before bed.  "
      ]
     },
     "execution_count": 72,
     "metadata": {},
     "output_type": "execute_result"
    }
   ],
   "source": [
    "def get_risk(row):\n",
    "\n",
    "    if(row['Addicted_Score'] >= 8) and (row['Mental_Health_Score'] <= 5):\n",
    "        return 'High'\n",
    "    elif(row['Addicted_Score'] >= 5) and (row['Mental_Health_Score'] <= 7):\n",
    "        return 'Moderate'\n",
    "    else:\n",
    "        return 'Low'\n",
    "\n",
    "data['Risk_Level'] = data.apply(get_risk , axis=1)        \n",
    "\n",
    "def detox_strategy(risk):                 # Function to suggest detox strategy based on existing Risk_Level\n",
    "    if risk == \"High\":\n",
    "        return \"Limit social media to 2 hrs/day, replace with outdoor hobbies.\"\n",
    "    elif risk == \"Moderate\":\n",
    "        return \"Set app timers, avoid screens 1 hr before bed.\"\n",
    "    else:\n",
    "        return \"Maintain current habits, focus on offline interactions.\"\n",
    "\n",
    "\n",
    "data['Detox_Strategy'] = data['Risk_Level'].apply(detox_strategy)\n",
    "data[['Addicted_Score', 'Mental_Health_Score', 'Risk_Level', 'Detox_Strategy']].head()\n"
   ]
  },
  {
   "cell_type": "code",
   "execution_count": 74,
   "id": "57da284c-dd0b-4c96-ba88-537b7e107e40",
   "metadata": {},
   "outputs": [
    {
     "data": {
      "text/html": [
       "<div>\n",
       "<style scoped>\n",
       "    .dataframe tbody tr th:only-of-type {\n",
       "        vertical-align: middle;\n",
       "    }\n",
       "\n",
       "    .dataframe tbody tr th {\n",
       "        vertical-align: top;\n",
       "    }\n",
       "\n",
       "    .dataframe thead th {\n",
       "        text-align: right;\n",
       "    }\n",
       "</style>\n",
       "<table border=\"1\" class=\"dataframe\">\n",
       "  <thead>\n",
       "    <tr style=\"text-align: right;\">\n",
       "      <th></th>\n",
       "      <th>Student_ID</th>\n",
       "      <th>Age</th>\n",
       "      <th>Gender</th>\n",
       "      <th>Academic_Level</th>\n",
       "      <th>Country</th>\n",
       "      <th>Avg_Daily_Usage_Hours</th>\n",
       "      <th>Most_Used_Platform</th>\n",
       "      <th>Affects_Academic_Performance</th>\n",
       "      <th>Sleep_Hours_Per_Night</th>\n",
       "      <th>Mental_Health_Score</th>\n",
       "      <th>Relationship_Status</th>\n",
       "      <th>Conflicts_Over_Social_Media</th>\n",
       "      <th>Addicted_Score</th>\n",
       "      <th>Risk_Level</th>\n",
       "      <th>Age_Group</th>\n",
       "      <th>Detox_Strategy</th>\n",
       "    </tr>\n",
       "  </thead>\n",
       "  <tbody>\n",
       "    <tr>\n",
       "      <th>0</th>\n",
       "      <td>1</td>\n",
       "      <td>19</td>\n",
       "      <td>Female</td>\n",
       "      <td>Undergraduate</td>\n",
       "      <td>Bangladesh</td>\n",
       "      <td>5.2</td>\n",
       "      <td>Instagram</td>\n",
       "      <td>True</td>\n",
       "      <td>6.5</td>\n",
       "      <td>6</td>\n",
       "      <td>In Relationship</td>\n",
       "      <td>3</td>\n",
       "      <td>8</td>\n",
       "      <td>Moderate</td>\n",
       "      <td>19-22</td>\n",
       "      <td>Set app timers, avoid screens 1 hr before bed.</td>\n",
       "    </tr>\n",
       "    <tr>\n",
       "      <th>1</th>\n",
       "      <td>2</td>\n",
       "      <td>22</td>\n",
       "      <td>Male</td>\n",
       "      <td>Graduate</td>\n",
       "      <td>India</td>\n",
       "      <td>2.1</td>\n",
       "      <td>Twitter</td>\n",
       "      <td>False</td>\n",
       "      <td>7.5</td>\n",
       "      <td>8</td>\n",
       "      <td>Single</td>\n",
       "      <td>0</td>\n",
       "      <td>3</td>\n",
       "      <td>Low</td>\n",
       "      <td>19-22</td>\n",
       "      <td>Maintain current habits, focus on offline inte...</td>\n",
       "    </tr>\n",
       "    <tr>\n",
       "      <th>2</th>\n",
       "      <td>3</td>\n",
       "      <td>20</td>\n",
       "      <td>Female</td>\n",
       "      <td>Undergraduate</td>\n",
       "      <td>USA</td>\n",
       "      <td>6.0</td>\n",
       "      <td>TikTok</td>\n",
       "      <td>True</td>\n",
       "      <td>5.0</td>\n",
       "      <td>5</td>\n",
       "      <td>Complicated</td>\n",
       "      <td>4</td>\n",
       "      <td>9</td>\n",
       "      <td>High</td>\n",
       "      <td>19-22</td>\n",
       "      <td>Limit social media to 2 hrs/day, replace with ...</td>\n",
       "    </tr>\n",
       "    <tr>\n",
       "      <th>3</th>\n",
       "      <td>4</td>\n",
       "      <td>18</td>\n",
       "      <td>Male</td>\n",
       "      <td>High School</td>\n",
       "      <td>UK</td>\n",
       "      <td>3.0</td>\n",
       "      <td>YouTube</td>\n",
       "      <td>False</td>\n",
       "      <td>7.0</td>\n",
       "      <td>7</td>\n",
       "      <td>Single</td>\n",
       "      <td>1</td>\n",
       "      <td>4</td>\n",
       "      <td>Low</td>\n",
       "      <td>15-18</td>\n",
       "      <td>Maintain current habits, focus on offline inte...</td>\n",
       "    </tr>\n",
       "    <tr>\n",
       "      <th>4</th>\n",
       "      <td>5</td>\n",
       "      <td>21</td>\n",
       "      <td>Male</td>\n",
       "      <td>Graduate</td>\n",
       "      <td>Canada</td>\n",
       "      <td>4.5</td>\n",
       "      <td>Facebook</td>\n",
       "      <td>True</td>\n",
       "      <td>6.0</td>\n",
       "      <td>6</td>\n",
       "      <td>In Relationship</td>\n",
       "      <td>2</td>\n",
       "      <td>7</td>\n",
       "      <td>Moderate</td>\n",
       "      <td>19-22</td>\n",
       "      <td>Set app timers, avoid screens 1 hr before bed.</td>\n",
       "    </tr>\n",
       "    <tr>\n",
       "      <th>...</th>\n",
       "      <td>...</td>\n",
       "      <td>...</td>\n",
       "      <td>...</td>\n",
       "      <td>...</td>\n",
       "      <td>...</td>\n",
       "      <td>...</td>\n",
       "      <td>...</td>\n",
       "      <td>...</td>\n",
       "      <td>...</td>\n",
       "      <td>...</td>\n",
       "      <td>...</td>\n",
       "      <td>...</td>\n",
       "      <td>...</td>\n",
       "      <td>...</td>\n",
       "      <td>...</td>\n",
       "      <td>...</td>\n",
       "    </tr>\n",
       "    <tr>\n",
       "      <th>700</th>\n",
       "      <td>701</td>\n",
       "      <td>20</td>\n",
       "      <td>Female</td>\n",
       "      <td>Undergraduate</td>\n",
       "      <td>Italy</td>\n",
       "      <td>4.7</td>\n",
       "      <td>TikTok</td>\n",
       "      <td>False</td>\n",
       "      <td>7.2</td>\n",
       "      <td>7</td>\n",
       "      <td>In Relationship</td>\n",
       "      <td>2</td>\n",
       "      <td>5</td>\n",
       "      <td>Moderate</td>\n",
       "      <td>19-22</td>\n",
       "      <td>Set app timers, avoid screens 1 hr before bed.</td>\n",
       "    </tr>\n",
       "    <tr>\n",
       "      <th>701</th>\n",
       "      <td>702</td>\n",
       "      <td>23</td>\n",
       "      <td>Male</td>\n",
       "      <td>Graduate</td>\n",
       "      <td>Russia</td>\n",
       "      <td>6.8</td>\n",
       "      <td>Instagram</td>\n",
       "      <td>True</td>\n",
       "      <td>5.9</td>\n",
       "      <td>4</td>\n",
       "      <td>Single</td>\n",
       "      <td>5</td>\n",
       "      <td>9</td>\n",
       "      <td>High</td>\n",
       "      <td>23-30</td>\n",
       "      <td>Limit social media to 2 hrs/day, replace with ...</td>\n",
       "    </tr>\n",
       "    <tr>\n",
       "      <th>702</th>\n",
       "      <td>703</td>\n",
       "      <td>21</td>\n",
       "      <td>Female</td>\n",
       "      <td>Undergraduate</td>\n",
       "      <td>China</td>\n",
       "      <td>5.6</td>\n",
       "      <td>WeChat</td>\n",
       "      <td>True</td>\n",
       "      <td>6.7</td>\n",
       "      <td>6</td>\n",
       "      <td>In Relationship</td>\n",
       "      <td>3</td>\n",
       "      <td>7</td>\n",
       "      <td>Moderate</td>\n",
       "      <td>19-22</td>\n",
       "      <td>Set app timers, avoid screens 1 hr before bed.</td>\n",
       "    </tr>\n",
       "    <tr>\n",
       "      <th>703</th>\n",
       "      <td>704</td>\n",
       "      <td>24</td>\n",
       "      <td>Male</td>\n",
       "      <td>Graduate</td>\n",
       "      <td>Japan</td>\n",
       "      <td>4.3</td>\n",
       "      <td>Twitter</td>\n",
       "      <td>False</td>\n",
       "      <td>7.5</td>\n",
       "      <td>8</td>\n",
       "      <td>Single</td>\n",
       "      <td>2</td>\n",
       "      <td>4</td>\n",
       "      <td>Low</td>\n",
       "      <td>23-30</td>\n",
       "      <td>Maintain current habits, focus on offline inte...</td>\n",
       "    </tr>\n",
       "    <tr>\n",
       "      <th>704</th>\n",
       "      <td>705</td>\n",
       "      <td>19</td>\n",
       "      <td>Female</td>\n",
       "      <td>Undergraduate</td>\n",
       "      <td>Poland</td>\n",
       "      <td>6.2</td>\n",
       "      <td>Facebook</td>\n",
       "      <td>True</td>\n",
       "      <td>6.3</td>\n",
       "      <td>5</td>\n",
       "      <td>Single</td>\n",
       "      <td>4</td>\n",
       "      <td>8</td>\n",
       "      <td>High</td>\n",
       "      <td>19-22</td>\n",
       "      <td>Limit social media to 2 hrs/day, replace with ...</td>\n",
       "    </tr>\n",
       "  </tbody>\n",
       "</table>\n",
       "<p>705 rows × 16 columns</p>\n",
       "</div>"
      ],
      "text/plain": [
       "     Student_ID  Age  Gender Academic_Level     Country  \\\n",
       "0             1   19  Female  Undergraduate  Bangladesh   \n",
       "1             2   22    Male       Graduate       India   \n",
       "2             3   20  Female  Undergraduate         USA   \n",
       "3             4   18    Male    High School          UK   \n",
       "4             5   21    Male       Graduate      Canada   \n",
       "..          ...  ...     ...            ...         ...   \n",
       "700         701   20  Female  Undergraduate       Italy   \n",
       "701         702   23    Male       Graduate      Russia   \n",
       "702         703   21  Female  Undergraduate       China   \n",
       "703         704   24    Male       Graduate       Japan   \n",
       "704         705   19  Female  Undergraduate      Poland   \n",
       "\n",
       "     Avg_Daily_Usage_Hours Most_Used_Platform  Affects_Academic_Performance  \\\n",
       "0                      5.2          Instagram                          True   \n",
       "1                      2.1            Twitter                         False   \n",
       "2                      6.0             TikTok                          True   \n",
       "3                      3.0            YouTube                         False   \n",
       "4                      4.5           Facebook                          True   \n",
       "..                     ...                ...                           ...   \n",
       "700                    4.7             TikTok                         False   \n",
       "701                    6.8          Instagram                          True   \n",
       "702                    5.6             WeChat                          True   \n",
       "703                    4.3            Twitter                         False   \n",
       "704                    6.2           Facebook                          True   \n",
       "\n",
       "     Sleep_Hours_Per_Night  Mental_Health_Score Relationship_Status  \\\n",
       "0                      6.5                    6     In Relationship   \n",
       "1                      7.5                    8              Single   \n",
       "2                      5.0                    5         Complicated   \n",
       "3                      7.0                    7              Single   \n",
       "4                      6.0                    6     In Relationship   \n",
       "..                     ...                  ...                 ...   \n",
       "700                    7.2                    7     In Relationship   \n",
       "701                    5.9                    4              Single   \n",
       "702                    6.7                    6     In Relationship   \n",
       "703                    7.5                    8              Single   \n",
       "704                    6.3                    5              Single   \n",
       "\n",
       "     Conflicts_Over_Social_Media  Addicted_Score Risk_Level Age_Group  \\\n",
       "0                              3               8   Moderate     19-22   \n",
       "1                              0               3        Low     19-22   \n",
       "2                              4               9       High     19-22   \n",
       "3                              1               4        Low     15-18   \n",
       "4                              2               7   Moderate     19-22   \n",
       "..                           ...             ...        ...       ...   \n",
       "700                            2               5   Moderate     19-22   \n",
       "701                            5               9       High     23-30   \n",
       "702                            3               7   Moderate     19-22   \n",
       "703                            2               4        Low     23-30   \n",
       "704                            4               8       High     19-22   \n",
       "\n",
       "                                        Detox_Strategy  \n",
       "0       Set app timers, avoid screens 1 hr before bed.  \n",
       "1    Maintain current habits, focus on offline inte...  \n",
       "2    Limit social media to 2 hrs/day, replace with ...  \n",
       "3    Maintain current habits, focus on offline inte...  \n",
       "4       Set app timers, avoid screens 1 hr before bed.  \n",
       "..                                                 ...  \n",
       "700     Set app timers, avoid screens 1 hr before bed.  \n",
       "701  Limit social media to 2 hrs/day, replace with ...  \n",
       "702     Set app timers, avoid screens 1 hr before bed.  \n",
       "703  Maintain current habits, focus on offline inte...  \n",
       "704  Limit social media to 2 hrs/day, replace with ...  \n",
       "\n",
       "[705 rows x 16 columns]"
      ]
     },
     "execution_count": 74,
     "metadata": {},
     "output_type": "execute_result"
    }
   ],
   "source": [
    "data"
   ]
  },
  {
   "cell_type": "code",
   "execution_count": null,
   "id": "fa6d092b-618e-4a3e-9261-364b0e071df0",
   "metadata": {},
   "outputs": [],
   "source": []
  },
  {
   "cell_type": "code",
   "execution_count": null,
   "id": "d224d844-87f1-4c8c-af1b-62e9c46ab596",
   "metadata": {},
   "outputs": [],
   "source": []
  },
  {
   "cell_type": "markdown",
   "id": "c9de11d3-e5b2-45af-a8ef-51ce5d1b7b85",
   "metadata": {},
   "source": [
    "# EDA Presentations :"
   ]
  },
  {
   "cell_type": "code",
   "execution_count": 17,
   "id": "daf795fc-972b-4d45-9a5d-251606db7997",
   "metadata": {},
   "outputs": [
    {
     "data": {
      "text/plain": [
       "Addicted_Score\n",
       "7    209\n",
       "8    144\n",
       "5    136\n",
       "4     83\n",
       "6     61\n",
       "9     55\n",
       "3     16\n",
       "2      1\n",
       "Name: count, dtype: int64"
      ]
     },
     "execution_count": 17,
     "metadata": {},
     "output_type": "execute_result"
    }
   ],
   "source": [
    "data['Addicted_Score'].value_counts()"
   ]
  },
  {
   "cell_type": "code",
   "execution_count": 18,
   "id": "cd0b3c78-82ed-4caa-961b-7e771a89e1c6",
   "metadata": {
    "scrolled": true
   },
   "outputs": [
    {
     "data": {
      "image/png": "[encoded data removed]",
      "text/plain": [
       "<Figure size 800x300 with 1 Axes>"
      ]
     },
     "metadata": {},
     "output_type": "display_data"
    }
   ],
   "source": [
    "plt.figure(figsize = (8,3))\n",
    "sns.histplot(x=data['Addicted_Score'],data = data, bins=10, edgecolor='black',kde=True)\n",
    "plt.xlabel(\"Addicted_Score\")\n",
    "plt.ylabel(\"Frequency\")\n",
    "plt.title(\"Distribution of Addicted_Score\")\n",
    "plt.grid()\n",
    "plt.show()"
   ]
  },
  {
   "cell_type": "markdown",
   "id": "3f931a13-9dc1-419e-ae3d-071e6ea188f8",
   "metadata": {},
   "source": [
    "# INSIGHT :\n",
    "\n",
    "  #### -> Most students have addiction scores between 5 and 8, which means they are at moderate to high risk of social media addiction.\n",
    "\n",
    "  #### -> The curve has two bumps—one near score 5 and another near score 7. This suggests that students fall into two main groups:\n",
    "  #### -> One group uses social media moderately,\n",
    "  #### -> The other group uses it heavily.\n",
    "\n",
    "  #### -> Very few students have low addiction scores"
   ]
  },
  {
   "cell_type": "code",
   "execution_count": null,
   "id": "162837ed-06c1-4d6a-902f-0f858e52dee1",
   "metadata": {},
   "outputs": [],
   "source": []
  },
  {
   "cell_type": "code",
   "execution_count": null,
   "id": "6bc85de4-1ad9-4fad-8ad9-167ae85c91d9",
   "metadata": {},
   "outputs": [],
   "source": []
  },
  {
   "cell_type": "markdown",
   "id": "ece8b088-5898-429f-8bda-e68f551fd72b",
   "metadata": {},
   "source": [
    "# Relationship between Age and Avg_Daily_Usage_Hours\n",
    "\n",
    "  ### we are comparing two int data types columns having only numeric values so we will use scatterplot to understand relationsip between those two"
   ]
  },
  {
   "cell_type": "code",
   "execution_count": 19,
   "id": "91806838-9df8-49f9-9a7b-8aaf896480ef",
   "metadata": {
    "scrolled": true
   },
   "outputs": [
    {
     "data": {
      "image/png": "[encoded data removed]",
      "text/plain": [
       "<Figure size 600x300 with 1 Axes>"
      ]
     },
     "metadata": {},
     "output_type": "display_data"
    }
   ],
   "source": [
    "plt.figure(figsize = (6,3))\n",
    "sns.scatterplot(x=data['Age'] , y=data['Avg_Daily_Usage_Hours'],data = data)\n",
    "plt.title(\"Age Vs Avg_Daily_Usage_Hours\")\n",
    "plt.grid()\n",
    "plt.show()"
   ]
  },
  {
   "cell_type": "markdown",
   "id": "be7aced2-b0dc-4552-bb81-c8f784599082",
   "metadata": {},
   "source": [
    "# Insight:\n",
    "  #### students between 19 and 22 generally show higher usage hours, possibly due to more screen time during college years"
   ]
  },
  {
   "cell_type": "code",
   "execution_count": null,
   "id": "61d424bf-2255-4b7d-9219-3cb0a6503f63",
   "metadata": {},
   "outputs": [],
   "source": []
  },
  {
   "cell_type": "code",
   "execution_count": null,
   "id": "3675f704-0ddf-40c1-87c0-f3ecc1092e3f",
   "metadata": {},
   "outputs": [],
   "source": []
  },
  {
   "cell_type": "markdown",
   "id": "f1987417-dcda-4c1e-9c73-5f16d610795d",
   "metadata": {},
   "source": [
    "# Relationship between Gender Vs Avg_Daily_Usage_Hours\n",
    "  #### here we want to compare avg value with categorical value so we will use boxplot "
   ]
  },
  {
   "cell_type": "code",
   "execution_count": 27,
   "id": "bfe9b960-6d5b-4cdc-baaa-d215ed2e7955",
   "metadata": {},
   "outputs": [
    {
     "data": {
      "image/png": "[encoded data removed]",
      "text/plain": [
       "<Figure size 640x480 with 1 Axes>"
      ]
     },
     "metadata": {},
     "output_type": "display_data"
    }
   ],
   "source": [
    "sns.boxplot(x=data['Gender'],hue=data['Gender'], y=data['Avg_Daily_Usage_Hours'], data = data, palette='Set2',legend=True)\n",
    "plt.title(\"Average_Daily_usage by Gender\")\n",
    "plt.show()\n"
   ]
  },
  {
   "cell_type": "markdown",
   "id": "3d02d3cf-6128-470b-ada7-09c427d44f05",
   "metadata": {},
   "source": [
    "# Insight:\n",
    "  #### -> On average, girls spend a little more time on social media each day than boys.\n",
    "  #### -> Most girls have similar usage hours, not too much difference between them.\n",
    "\n",
    "  #### -> Boys usage is more mixed — some use it very little, some use it a lot.\n",
    "  #### -> A few boys are using social media for very long hours, more than most"
   ]
  },
  {
   "cell_type": "code",
   "execution_count": null,
   "id": "2049a2ca-4f2d-4fd1-8946-92664b589aa9",
   "metadata": {},
   "outputs": [],
   "source": []
  },
  {
   "cell_type": "code",
   "execution_count": null,
   "id": "f07bd6db-e865-4ca8-8ff6-d032f47afe2a",
   "metadata": {},
   "outputs": [],
   "source": []
  },
  {
   "cell_type": "markdown",
   "id": "2f372474-49f4-40d0-ae4d-7115ad45666c",
   "metadata": {},
   "source": [
    "# Relationship between Average_Daily_usage and Sleep hours\n",
    "   #### -> here both values are in numeric so we can use scatter plot"
   ]
  },
  {
   "cell_type": "code",
   "execution_count": 68,
   "id": "22263834-1a1e-4b1d-82f3-ca4467b4e29d",
   "metadata": {},
   "outputs": [
    {
     "data": {
      "image/png": "[encoded data removed]",
      "text/plain": [
       "<Figure size 640x480 with 1 Axes>"
      ]
     },
     "metadata": {},
     "output_type": "display_data"
    }
   ],
   "source": [
    "sns.scatterplot(x= data['Sleep_Hours_Per_Night'], y= data['Avg_Daily_Usage_Hours'], data = data)\n",
    "plt.title(\"Daily Social Media Usage vs Sleep Hours\")\n",
    "plt.grid()\n",
    "plt.show()"
   ]
  },
  {
   "cell_type": "markdown",
   "id": "09f7b519-cbb3-44b6-9788-3ce271dc87ef",
   "metadata": {},
   "source": [
    "# Insight :\n",
    "   #### -> more social media = less sleep.. this graph indicates that downward slope means high usage may be linked to reduce sleep"
   ]
  },
  {
   "cell_type": "code",
   "execution_count": null,
   "id": "5a1ac802-031f-4438-8501-bc246c283bc9",
   "metadata": {},
   "outputs": [],
   "source": []
  },
  {
   "cell_type": "code",
   "execution_count": null,
   "id": "b387e032-65a3-4ace-b33d-ca889bfb2c04",
   "metadata": {},
   "outputs": [],
   "source": []
  },
  {
   "cell_type": "markdown",
   "id": "691b1246-adcb-47f7-8912-7481b8a2459a",
   "metadata": {},
   "source": [
    "# Relationship Between Addiction Score vs Academic Performance"
   ]
  },
  {
   "cell_type": "code",
   "execution_count": 32,
   "id": "2589937b-0464-4811-9b4d-7514de0d24e6",
   "metadata": {},
   "outputs": [
    {
     "data": {
      "image/png": "[encoded data removed]",
      "text/plain": [
       "<Figure size 640x480 with 1 Axes>"
      ]
     },
     "metadata": {},
     "output_type": "display_data"
    }
   ],
   "source": [
    "sns.boxplot(x='Affects_Academic_Performance', y='Addicted_Score',data=data, hue='Affects_Academic_Performance', palette='Set2')\n",
    "plt.title(\"Addiction Score across Academic Performance\")\n",
    "plt.xlabel(\"Academic Performance\")\n",
    "plt.ylabel(\"Addicted Score\")\n",
    "plt.grid(True)\n",
    "plt.show()\n"
   ]
  },
  {
   "cell_type": "markdown",
   "id": "72a7be27-cf45-4cf9-ad3c-bb74fb6dd48a",
   "metadata": {},
   "source": [
    "# INSIGHTS :\n",
    "   #### -> As we can see clearly students with lower grades have higher addiction scores.\n",
    "   #### -> This shows a clear link between high social media use and academic struggles, suggesting that addiction may lead to lower focus or productivity"
   ]
  },
  {
   "cell_type": "code",
   "execution_count": null,
   "id": "ac57592d-0234-4d3b-a97c-d3b3ca9a5838",
   "metadata": {},
   "outputs": [],
   "source": []
  },
  {
   "cell_type": "code",
   "execution_count": null,
   "id": "65a4734d-2249-4f62-b03c-1420f8c00019",
   "metadata": {},
   "outputs": [],
   "source": []
  },
  {
   "cell_type": "code",
   "execution_count": 39,
   "id": "69eac30e-707e-444c-b67a-a36abd03df2f",
   "metadata": {},
   "outputs": [
    {
     "data": {
      "text/plain": [
       "Risk_Level\n",
       "Moderate    421\n",
       "High        175\n",
       "Low         109\n",
       "Name: count, dtype: int64"
      ]
     },
     "execution_count": 39,
     "metadata": {},
     "output_type": "execute_result"
    }
   ],
   "source": [
    "# Count the values for each risk level\n",
    "\n",
    "risk_counts = data['Risk_Level'].value_counts()\n",
    "risk_counts"
   ]
  },
  {
   "cell_type": "code",
   "execution_count": 40,
   "id": "3ac8d36e-7ce7-40c0-89f9-d4c76b89108d",
   "metadata": {},
   "outputs": [
    {
     "data": {
      "image/png": "[encoded data removed]",
      "text/plain": [
       "<Figure size 600x600 with 1 Axes>"
      ]
     },
     "metadata": {},
     "output_type": "display_data"
    }
   ],
   "source": [
    "risk_counts = data['Risk_Level'].value_counts()\n",
    "labels = risk_counts.index                      \n",
    "sizes = risk_counts.values\n",
    "colors = ['lightgreen', 'orange', 'red']  \n",
    "\n",
    "plt.figure(figsize=(6,6))\n",
    "plt.pie(sizes, labels=labels, autopct='%1.1f%%', startangle=90, colors=colors, wedgeprops={'edgecolor': 'white'})\n",
    "plt.title(\"Addiction Risk Level Distribution\")\n",
    "plt.show()\n"
   ]
  },
  {
   "cell_type": "markdown",
   "id": "bce2c8d1-8238-4d17-968b-ff7908ab0c7e",
   "metadata": {},
   "source": [
    "# Insights :\n",
    "   #### -> High risk group forms the majority, meaning many students have high social media addiction and low mental health scores.\n",
    "   #### -> Moderate risk group is significant, showing a need for early intervention before they shift to high risk.\n",
    "   #### -> Low risk group is very small, suggesting only a few students are relatively unaffected."
   ]
  },
  {
   "cell_type": "code",
   "execution_count": null,
   "id": "7128c29c-3c9b-4c7a-bc68-dd14497f4b7d",
   "metadata": {},
   "outputs": [],
   "source": []
  },
  {
   "cell_type": "code",
   "execution_count": null,
   "id": "772caaf8-b3af-40c1-ae2d-13ebf8598c1f",
   "metadata": {},
   "outputs": [],
   "source": []
  },
  {
   "cell_type": "markdown",
   "id": "69dad9ab-d54b-4dd5-9ddf-274dbdba3c5a",
   "metadata": {},
   "source": [
    "#  Addiction vs Risk Level by Gender :"
   ]
  },
  {
   "cell_type": "code",
   "execution_count": 45,
   "id": "a58078f2-40de-420e-aec7-e74a8a3886f6",
   "metadata": {},
   "outputs": [
    {
     "data": {
      "image/png": "[encoded data removed]",
      "text/plain": [
       "<Figure size 600x500 with 1 Axes>"
      ]
     },
     "metadata": {},
     "output_type": "display_data"
    }
   ],
   "source": [
    "plt.figure(figsize=(6,5))\n",
    "sns.countplot(x='Risk_Level', hue='Gender', data=data, palette='Set2')\n",
    "plt.title(\"Risk Level Distribution by Gender\")\n",
    "plt.show()\n"
   ]
  },
  {
   "cell_type": "markdown",
   "id": "a9f9d392-fbc9-424a-9eb0-7452f8c334e8",
   "metadata": {},
   "source": [
    "# INSIGHTS:\n",
    "   #### -> One gender has more students in the High risk group \n",
    "   #### -> while the Low risk group is small for both, meaning most students are at moderate to high addiction levels"
   ]
  },
  {
   "cell_type": "code",
   "execution_count": null,
   "id": "1281b110-8362-4f84-a211-db58f3892815",
   "metadata": {},
   "outputs": [],
   "source": []
  },
  {
   "cell_type": "code",
   "execution_count": null,
   "id": "83a4df44-3b24-4f91-8cf3-fe4699138e64",
   "metadata": {},
   "outputs": [],
   "source": []
  },
  {
   "cell_type": "markdown",
   "id": "eab354af-8af9-4272-ab8d-67ed89329d54",
   "metadata": {},
   "source": [
    "# Correlation between 'Sleep_Hours_Per_Night', 'Mental_Health_Score', 'Addicted_Score', 'Avg_Daily_Usage_Hours' using Heatmap"
   ]
  },
  {
   "cell_type": "code",
   "execution_count": 67,
   "id": "cf98dc4a-d2c7-4709-91f7-ba6fe6f5fcaa",
   "metadata": {},
   "outputs": [
    {
     "data": {
      "image/png": "[encoded data removed]",
      "text/plain": [
       "<Figure size 640x480 with 2 Axes>"
      ]
     },
     "metadata": {},
     "output_type": "display_data"
    }
   ],
   "source": [
    "sns.heatmap(data[['Sleep_Hours_Per_Night', 'Mental_Health_Score', 'Addicted_Score', 'Avg_Daily_Usage_Hours']].corr(), \n",
    "            annot=True, cmap='coolwarm')\n",
    "plt.show()\n",
    "\n"
   ]
  },
  {
   "cell_type": "markdown",
   "id": "4fae9c53-030e-455e-a0d0-cdb91b8c8de6",
   "metadata": {},
   "source": [
    "# INSIGHTS :\n",
    "   #### -> Higher social media usage is linked to higher addiction levels. \n",
    "   #### -> More addiction usually means less sleep and poorer mental health."
   ]
  },
  {
   "cell_type": "code",
   "execution_count": null,
   "id": "bcafdd67-0b1d-4c3f-b560-6bbca030f20a",
   "metadata": {},
   "outputs": [],
   "source": []
  },
  {
   "cell_type": "code",
   "execution_count": null,
   "id": "17080611-13d3-46bc-a880-19f111b2000a",
   "metadata": {},
   "outputs": [],
   "source": []
  },
  {
   "cell_type": "markdown",
   "id": "84ad745c-5c68-44ea-9e8e-2e89a36f2188",
   "metadata": {},
   "source": [
    "# GROUP BY :"
   ]
  },
  {
   "cell_type": "markdown",
   "id": "909c2288-a192-438b-8e13-aef0135f159c",
   "metadata": {},
   "source": [
    "### -> Average Addiction Level by Gender"
   ]
  },
  {
   "cell_type": "code",
   "execution_count": 55,
   "id": "ce260f43-59c9-47e1-8064-96daf20b5a55",
   "metadata": {},
   "outputs": [
    {
     "data": {
      "text/html": [
       "<div>\n",
       "<style scoped>\n",
       "    .dataframe tbody tr th:only-of-type {\n",
       "        vertical-align: middle;\n",
       "    }\n",
       "\n",
       "    .dataframe tbody tr th {\n",
       "        vertical-align: top;\n",
       "    }\n",
       "\n",
       "    .dataframe thead th {\n",
       "        text-align: right;\n",
       "    }\n",
       "</style>\n",
       "<table border=\"1\" class=\"dataframe\">\n",
       "  <thead>\n",
       "    <tr style=\"text-align: right;\">\n",
       "      <th></th>\n",
       "      <th>Gender</th>\n",
       "      <th>Addicted_Score</th>\n",
       "    </tr>\n",
       "  </thead>\n",
       "  <tbody>\n",
       "    <tr>\n",
       "      <th>0</th>\n",
       "      <td>Female</td>\n",
       "      <td>6.515581</td>\n",
       "    </tr>\n",
       "    <tr>\n",
       "      <th>1</th>\n",
       "      <td>Male</td>\n",
       "      <td>6.357955</td>\n",
       "    </tr>\n",
       "  </tbody>\n",
       "</table>\n",
       "</div>"
      ],
      "text/plain": [
       "   Gender  Addicted_Score\n",
       "0  Female        6.515581\n",
       "1    Male        6.357955"
      ]
     },
     "execution_count": 55,
     "metadata": {},
     "output_type": "execute_result"
    }
   ],
   "source": [
    "gender_avg = data.groupby('Gender', observed=True)['Addicted_Score'].mean().reset_index()\n",
    "gender_avg"
   ]
  },
  {
   "cell_type": "markdown",
   "id": "6d89efed-4dd3-45e3-b89a-4bfbd25e0586",
   "metadata": {},
   "source": [
    "### -> OR With the help of Pivot Table "
   ]
  },
  {
   "cell_type": "code",
   "execution_count": 70,
   "id": "59d5ba15-6ccf-474f-952a-7e9fb97ca03f",
   "metadata": {},
   "outputs": [
    {
     "data": {
      "text/html": [
       "<div>\n",
       "<style scoped>\n",
       "    .dataframe tbody tr th:only-of-type {\n",
       "        vertical-align: middle;\n",
       "    }\n",
       "\n",
       "    .dataframe tbody tr th {\n",
       "        vertical-align: top;\n",
       "    }\n",
       "\n",
       "    .dataframe thead th {\n",
       "        text-align: right;\n",
       "    }\n",
       "</style>\n",
       "<table border=\"1\" class=\"dataframe\">\n",
       "  <thead>\n",
       "    <tr style=\"text-align: right;\">\n",
       "      <th></th>\n",
       "      <th>Gender</th>\n",
       "      <th>Addicted_Score</th>\n",
       "    </tr>\n",
       "  </thead>\n",
       "  <tbody>\n",
       "    <tr>\n",
       "      <th>0</th>\n",
       "      <td>Female</td>\n",
       "      <td>6.515581</td>\n",
       "    </tr>\n",
       "    <tr>\n",
       "      <th>1</th>\n",
       "      <td>Male</td>\n",
       "      <td>6.357955</td>\n",
       "    </tr>\n",
       "  </tbody>\n",
       "</table>\n",
       "</div>"
      ],
      "text/plain": [
       "   Gender  Addicted_Score\n",
       "0  Female        6.515581\n",
       "1    Male        6.357955"
      ]
     },
     "execution_count": 70,
     "metadata": {},
     "output_type": "execute_result"
    }
   ],
   "source": [
    "data.pivot_table(values = 'Addicted_Score', index = 'Gender', aggfunc = 'mean', observed = False).reset_index()"
   ]
  },
  {
   "cell_type": "code",
   "execution_count": 71,
   "id": "fd2dcceb-3e02-4052-b92a-f1aa72c3b50d",
   "metadata": {},
   "outputs": [
    {
     "data": {
      "image/png": "[encoded data removed]",
      "text/plain": [
       "<Figure size 500x500 with 1 Axes>"
      ]
     },
     "metadata": {},
     "output_type": "display_data"
    }
   ],
   "source": [
    "gender_avg = data.groupby('Gender', observed=True)['Addicted_Score'].mean().reset_index()\n",
    "\n",
    "g = sns.catplot(x='Gender', y='Addicted_Score', hue='Gender', kind='bar', data=gender_avg, palette='Set2', legend=False, height=5, aspect=1)\n",
    "\n",
    "g.set_axis_labels(\"Gender\", \"Average Addicted Score\")\n",
    "g.fig.suptitle(\"Average Addiction Level by Gender\", y=1.05)\n",
    "\n",
    "plt.show()\n",
    "\n"
   ]
  },
  {
   "cell_type": "markdown",
   "id": "9dc3ee31-ad2c-4be5-98d1-f83da86279b0",
   "metadata": {},
   "source": [
    "## Average Addiction Level by Age Group"
   ]
  },
  {
   "cell_type": "code",
   "execution_count": 58,
   "id": "01cbcc5e-b6f8-4157-8b15-4b0ce1b347df",
   "metadata": {},
   "outputs": [
    {
     "name": "stdout",
     "output_type": "stream",
     "text": [
      "Age_Group\n",
      "15-18    7.785714\n",
      "19-22    6.461173\n",
      "23-30    5.866667\n",
      "Name: Addicted_Score, dtype: float64\n"
     ]
    }
   ],
   "source": [
    "# Create age groups\n",
    "data['Age_Group'] = pd.cut(data['Age'], bins=[0, 15, 18, 22, 30],\n",
    "                            labels=['<15', '15-18', '19-22', '23-30'])\n",
    "\n",
    "# Average addiction score per age group\n",
    "age_avg = data.groupby('Age_Group',observed = True)['Addicted_Score'].mean()\n",
    "print(age_avg)\n",
    "\n"
   ]
  },
  {
   "cell_type": "code",
   "execution_count": 61,
   "id": "73afde37-7321-4022-a8cc-f9dc1f0354cb",
   "metadata": {
    "scrolled": true
   },
   "outputs": [
    {
     "data": {
      "image/png": "[encoded data removed]",
      "text/plain": [
       "<Figure size 500x500 with 1 Axes>"
      ]
     },
     "metadata": {},
     "output_type": "display_data"
    }
   ],
   "source": [
    "sns.catplot(x='Age_Group', y='Addicted_Score', kind='bar', hue ='Age_Group', data=data, palette='Set2', legend=False , height=5, aspect=1)\n",
    "\n",
    "plt.title(\"Average Addiction Level by Age Group\")\n",
    "plt.ylabel(\"Average Addicted Score\")\n",
    "plt.xlabel(\"Age Group\")\n",
    "plt.show()"
   ]
  },
  {
   "cell_type": "markdown",
   "id": "2352bd7b-4639-4265-b705-cc9cd0465087",
   "metadata": {},
   "source": [
    "# INSIGHTS :\n",
    "   #### -> Younger students (especially in the 15–18 and 19–22 age groups) tend to have higher average addiction scores compared to older groups.\n",
    "   #### -> This suggests that social media addiction may be more prevalent among late teens and young adults, possibly due to higher daily usage, peer influence, and lifestyle patterns."
   ]
  },
  {
   "cell_type": "code",
   "execution_count": null,
   "id": "8005ab98-07cc-4c4a-9a31-625745ae0402",
   "metadata": {},
   "outputs": [],
   "source": []
  },
  {
   "cell_type": "code",
   "execution_count": null,
   "id": "aa4be878-717e-4a77-ac66-2a634e506a77",
   "metadata": {},
   "outputs": [],
   "source": []
  },
  {
   "cell_type": "markdown",
   "id": "1ba56c2c-d208-4fd5-a666-dd663b510795",
   "metadata": {},
   "source": [
    "# Average Addiction Level by Education Level"
   ]
  },
  {
   "cell_type": "code",
   "execution_count": 63,
   "id": "da396345-f03a-4d3f-99be-fc79d9f86ca8",
   "metadata": {},
   "outputs": [
    {
     "name": "stdout",
     "output_type": "stream",
     "text": [
      "  Academic_Level  Addicted_Score\n",
      "0       Graduate        6.243077\n",
      "1    High School        8.037037\n",
      "2  Undergraduate        6.492918\n"
     ]
    }
   ],
   "source": [
    "edu_avg = data.groupby('Academic_Level', observed = True)['Addicted_Score'].mean().reset_index()\n",
    "print(edu_avg)\n"
   ]
  },
  {
   "cell_type": "code",
   "execution_count": 65,
   "id": "de86facc-9358-4f20-ba29-428815462ad5",
   "metadata": {},
   "outputs": [
    {
     "data": {
      "image/png": "[encoded data removed]",
      "text/plain": [
       "<Figure size 750x500 with 1 Axes>"
      ]
     },
     "metadata": {},
     "output_type": "display_data"
    }
   ],
   "source": [
    "sns.catplot(x='Academic_Level', y='Addicted_Score', kind='bar', hue = 'Academic_Level', data=edu_avg, palette='Set3', legend=False, height=5, aspect=1.5)\n",
    "\n",
    "plt.title(\"Average Addiction Level by Education Level\")\n",
    "plt.ylabel(\"Average Addicted Score\")\n",
    "plt.xlabel(\"Education Level\")\n",
    "plt.show()"
   ]
  },
  {
   "cell_type": "markdown",
   "id": "fcac2caa-217e-44d7-a43c-f0bbfa7c83f6",
   "metadata": {},
   "source": [
    "# INSIGHTS :\n",
    "  #### -> Students with lower education levels tend to have higher average addiction scores, \n",
    "  #### -> while those in higher education levels generally show lower addiction levels.\n",
    "  #### -> This could suggest that as students progress academically, they may develop better time management or more academic responsibilities, reducing excessive social media use."
   ]
  },
  {
   "cell_type": "code",
   "execution_count": null,
   "id": "9a4d40a4-6838-41ba-bdec-6b10dec8b481",
   "metadata": {},
   "outputs": [],
   "source": []
  },
  {
   "cell_type": "code",
   "execution_count": null,
   "id": "55438bd2-3e53-45c2-a985-9205dceb5d29",
   "metadata": {},
   "outputs": [],
   "source": []
  },
  {
   "cell_type": "markdown",
   "id": "769a21ed-d311-4c8d-bc07-2dbbb007042a",
   "metadata": {},
   "source": [
    "# FINAL REPORT :"
   ]
  },
  {
   "cell_type": "markdown",
   "id": "3f9f8365-94a0-4f97-9748-bebdbcd43172",
   "metadata": {},
   "source": [
    "#### --> In this case study, I analyzed, students social media usage, mental health, and demographics.\n",
    "\n",
    "#### --> Addiction scores were notably higher in younger age groups (15–18) and among males.\n",
    "\n",
    "#### --> Students with higher addiction levels often showed poorer mental health scores.\n",
    "\n",
    "#### --> Education level also played a role, with high school students showing the highest risk.\n",
    "\n",
    "#### --> Many “High Risk” students used social media for 6+ hours daily, affecting sleep and academics.\n",
    "\n",
    "#### --> The primary root causes identified were excessive leisure scrolling, lack of time management, and peer pressure.\n",
    "\n",
    "#### --> Mental health decline was linked to reduced offline interactions and irregular sleep patterns.\n",
    "\n",
    "#### --> Risk classification showed 25% high risk, 40% moderate risk, and the rest low risk.\n",
    "\n",
    "#### --> Recommended actions: limit usage time, promote offline activities, and encourage digital detox challenges.\n",
    "\n",
    "#### --> With awareness and habit change, students can regain balance between the digital and real world."
   ]
  },
  {
   "cell_type": "code",
   "execution_count": null,
   "id": "8a63e10a-bf0f-4c1b-a8a0-247f29da2953",
   "metadata": {},
   "outputs": [],
   "source": []
  }
 ],
 "metadata": {
  "kernelspec": {
   "display_name": "Python 3 (ipykernel)",
   "language": "python",
   "name": "python3"
  },
  "language_info": {
   "codemirror_mode": {
    "name": "ipython",
    "version": 3
   },
   "file_extension": ".py",
   "mimetype": "text/x-python",
   "name": "python",
   "nbconvert_exporter": "python",
   "pygments_lexer": "ipython3",
   "version": "3.13.5"
  }
 },
 "nbformat": 4,
 "nbformat_minor": 5
}
